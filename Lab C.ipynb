{
 "cells": [
  {
   "cell_type": "markdown",
   "metadata": {},
   "source": [
    "# Bigram Markov Chain Model\n",
    "\n",
    "Now you'll build a more complex Markov chain that uses the last _two_ words (or bigram) to predict the next word. Now your dict `chain` should map a _tuple_ of words to a list of words that appear after it.\n",
    "\n",
    "As before, you should also include tags that indicate the beginning and end of a song, as well as line breaks. That is, a tuple might contain tags like `\"<START>\"`, `\"<END>\"`, and `\"<N>\"`, in addition to regular words. So for example, for [\"The Joker\"](https://www.azlyrics.com/lyrics/stevemillerband/thejoker.html), you would add the following to your chain:\n",
    "\n",
    "```\n",
    "chain = {\n",
    "    (None, \"<START>\"): [\"Some\", ...],\n",
    "    (\"<START>\", \"Some\"): [\"people\", ...],\n",
    "    (\"Some\", \"people\"): [\"call\", ...],\n",
    "    (\"people\", \"call\"): [\"me\", ...],\n",
    "    (\"call\", \"me\"): [\"the\", ...],\n",
    "    (\"me\", \"the\"): [\"space\", ...],\n",
    "    (\"the\", \"space\"): [\"cowboy,\", ...],\n",
    "    (\"space\", \"cowboy,\"): [\"yeah\", ...],\n",
    "    (\"cowboy,\", \"yeah\"): [\"<N>\", ...],\n",
    "    (\"yeah\", \"<N>\"): [\"Some\", ...],\n",
    "    (\"time\", \"<N>\"): [\"Come\"],\n",
    "    ...,\n",
    "    (\"<N>\", \"Come\"): [\"on\", ...],\n",
    "    (\"Come\", \"on\"): [\"baby\", ...],\n",
    "    (\"on\", \"baby\"): [\"and\", ...],\n",
    "    (\"baby\", \"and\"): [\"I'll\", ...],\n",
    "    (\"and\", \"I'll\"): [\"show\", ...],\n",
    "    (\"I'll\", \"show\"): [\"you\", ...],\n",
    "    (\"show\", \"you\"): [\"a\", ...],\n",
    "    (\"you\", \"a\"): [\"good\", ...],\n",
    "    (\"a\", \"good\"): [\"time\", ...],\n",
    "    (\"good\", \"time\"): [\"<END>\", ...],\n",
    "}\n",
    "```"
   ]
  },
  {
   "cell_type": "code",
   "execution_count": 1,
   "metadata": {},
   "outputs": [],
   "source": [
    "def train_markov_chain(lyrics):\n",
    "    \"\"\"\n",
    "    Args:\n",
    "      - lyrics: a list of strings, where each string represents\n",
    "                the lyrics of one song by an artist.\n",
    "    \n",
    "    Returns:\n",
    "      A dict that maps a tuple of 2 words (\"bigram\") to a list of\n",
    "      words that follow that bigram, representing the Markov\n",
    "      chain trained on the lyrics.\n",
    "    \"\"\"\n",
    "    chain = {(None, \"<START>\"): []}\n",
    "    for lyric in lyrics:\n",
    "        words = lyric.replace(\"\\n\", \" <N> \").strip().split(' ')\n",
    "        chain[(None,\"<START>\")].append(words[0])\n",
    "        chain[(\"<START>\", words[0])] = []\n",
    "        chain[(\"<START>\", words[0])].append(words[1])\n",
    "        prev_word_two_ago = words[0]\n",
    "        prev_word_one_ago = words[1]\n",
    "        for word in words[2:len(words)-1]:\n",
    "            if (prev_word_two_ago, prev_word_one_ago) not in chain.keys():\n",
    "                chain[(prev_word_two_ago, prev_word_one_ago)] = []\n",
    "            chain[(prev_word_two_ago, prev_word_one_ago)].append(word)\n",
    "            prev_word_two_ago = prev_word_one_ago\n",
    "            prev_word_one_ago = word\n",
    "        chain[(prev_word_two_ago, prev_word_one_ago)] = []\n",
    "        chain[(prev_word_two_ago, prev_word_one_ago)].append(\"<END>\")\n",
    "    return chain"
   ]
  },
  {
   "cell_type": "code",
   "execution_count": 2,
   "metadata": {},
   "outputs": [
    {
     "name": "stdout",
     "output_type": "stream",
     "text": [
      "['<N>', 'Yeah,', \"I've\", 'Work', '<N>', 'Yeah,', \"I've\", \"It's\", 'Everybody', '<N>', 'I', 'God', 'Living', 'Okay', '<N>', 'Take', 'Ass,', 'I', 'Yeah,', 'My', 'Jesus,', 'Yeah,', 'So...here', 'If', 'Yeah,', 'Tell', 'All', 'Yeah', 'I', 'Take', \"It's\", 'Yeah', 'Hey', 'Let', 'I,', 'I', 'Living', 'You,', 'Get', 'Me', 'Now', 'Uh', 'I', 'Dead', 'Tryna', 'Everything', 'Outside', 'I', 'Hey,', 'Bobby', 'I', 'I', 'Hey-oh,', 'Yeah,', \"I've\", '<N>', 'So...here', 'Uh,', 'We', 'Aye', 'Aye,', 'When', 'Now', 'Okay', 'Life', 'Jesus,', 'Buck,', 'Bitch,', 'Hey', 'Yeah;', 'Okay', 'I', 'Aye,', 'Everything', '<N>']\n"
     ]
    }
   ],
   "source": [
    "# Load the pickled lyrics object that you created in Lab A.\n",
    "import pickle\n",
    "lyrics = pickle.load(open(\"lyrics.pkl\", \"rb\"))\n",
    "\n",
    "# Call the function you wrote above.\n",
    "chain = train_markov_chain(lyrics)\n",
    "#print(chain)\n",
    "# What words tend to start a song (i.e., what words follow the <START> tag?)\n",
    "print(chain[(None, \"<START>\")])"
   ]
  },
  {
   "cell_type": "markdown",
   "metadata": {},
   "source": [
    "Now, let's generate new lyrics using the Markov chain you constructed above. To do this, we'll begin at the `(None, \"<START>\")` state and randomly sample a word from the list of words that follow this bigram. Then, at each step, we'll randomly sample the next word from the list of words that followed the current bigram (i.e., the last two words). We will continue this process until we sample the `\"<END>\"` state. This will give us the complete lyrics of a randomly generated song!"
   ]
  },
  {
   "cell_type": "code",
   "execution_count": 3,
   "metadata": {},
   "outputs": [],
   "source": [
    "import random\n",
    "\n",
    "def generate_new_lyrics(chain):\n",
    "    \"\"\"\n",
    "    Args:\n",
    "    - chain: a dict representing the Markov chain,\n",
    "    such as one generated by generate_new_lyrics()\n",
    "\n",
    "    Returns:\n",
    "    A string representing the randomly generated song.\n",
    "    \"\"\"\n",
    "\n",
    "    # a list for storing the generated words\n",
    "    words = []\n",
    "    \n",
    "    # generate the first word\n",
    "    first_word = random.choice(chain[(None, \"<START>\")])\n",
    "    words.append(first_word)\n",
    "    second_word = random.choice(chain[(\"<START>\", first_word)])\n",
    "    words.append(second_word)\n",
    "    i=1\n",
    "    while True: \n",
    "        prev_word = words[i-1]\n",
    "        current_word = words[i]\n",
    "        if(current_word == \"<END>\"):\n",
    "            break \n",
    "        words.append(random.choice(chain[(prev_word,current_word)]))\n",
    "        i += 1\n",
    "    \n",
    "    # join the words together into a string with line breaks\n",
    "    lyrics = \" \".join(words[:-1])\n",
    "    return \"\\n\".join(lyrics.split(\"<N>\"))"
   ]
  },
  {
   "cell_type": "code",
   "execution_count": 4,
   "metadata": {},
   "outputs": [
    {
     "name": "stdout",
     "output_type": "stream",
     "text": [
      "Hey mothafucka, I'm real as shit \n",
      " You gon' fuck around and said \n",
      " \"Fuck it, I'ma steal this land\"Everybody wanna tell me my wife cheated on me?! \n",
      " Atom. None of that wrist \n",
      " Flickin' that, feelin', flickin' that\n"
     ]
    }
   ],
   "source": [
    "print(generate_new_lyrics(chain))"
   ]
  },
  {
   "cell_type": "code",
   "execution_count": null,
   "metadata": {},
   "outputs": [],
   "source": []
  }
 ],
 "metadata": {
  "kernelspec": {
   "display_name": "Python 3",
   "language": "python",
   "name": "python3"
  },
  "language_info": {
   "codemirror_mode": {
    "name": "ipython",
    "version": 3
   },
   "file_extension": ".py",
   "mimetype": "text/x-python",
   "name": "python",
   "nbconvert_exporter": "python",
   "pygments_lexer": "ipython3",
   "version": "3.6.5"
  }
 },
 "nbformat": 4,
 "nbformat_minor": 2
}
