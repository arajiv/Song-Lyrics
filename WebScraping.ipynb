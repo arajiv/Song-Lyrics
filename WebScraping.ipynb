{
 "cells": [
  {
   "cell_type": "code",
   "execution_count": 1,
   "metadata": {},
   "outputs": [],
   "source": [
    "import requests\n",
    "import time\n",
    "\n",
    "from bs4 import BeautifulSoup"
   ]
  },
  {
   "cell_type": "code",
   "execution_count": 2,
   "metadata": {},
   "outputs": [],
   "source": [
    "lyrics = []\n",
    "resp = requests.get(\"http://www.metrolyrics.com/logic-lyrics.html\")\n",
    "soup = BeautifulSoup(resp.content, \"html.parser\")"
   ]
  },
  {
   "cell_type": "code",
   "execution_count": 3,
   "metadata": {},
   "outputs": [],
   "source": [
    "links = []\n",
    "table = soup.find_all(\"table\")[0]\n",
    "for song in table.find_all(\"tr\")[1:]:\n",
    "    cells = song.find_all(\"td\")\n",
    "    link = cells[1].find(\"a\", href=True)\n",
    "    links.append(link[\"href\"])"
   ]
  },
  {
   "cell_type": "code",
   "execution_count": 4,
   "metadata": {},
   "outputs": [],
   "source": [
    "for link in links:\n",
    "    resp = requests.get(link)\n",
    "    soup = BeautifulSoup(resp.content, \"html.parser\")\n",
    "    lyrics_page = soup.find_all(\"p\",class_=\"verse\")\n",
    "    total_lyrics = \"\"\n",
    "    for i in range(len(lyrics_page)):\n",
    "        startindex = lyrics_page[i].text.find(\"[\")\n",
    "        lastindex = lyrics_page[i].text.find(\"]\")\n",
    "        new_lyrics = lyrics_page[i].text.replace(lyrics_page[i].text[startindex: lastindex+1], \"\")\n",
    "        total_lyrics+=new_lyrics\n",
    "    lyrics.append(total_lyrics)\n",
    "    time.sleep(0.1)"
   ]
  },
  {
   "cell_type": "code",
   "execution_count": 5,
   "metadata": {},
   "outputs": [
    {
     "data": {
      "text/plain": [
       "'Yeah, livin\\' life like this\\nGotta paint a picture when I write like this\\nTales from my hood, not a sight like this\\nWhere they up to no good on a night like this\\nAnd they murder motherfuckers just cause\\nType of shit I see and probably wonder what it was\\nI was in the crib, just sitting on the rug\\nBasedheads coming through looking for the plug\\nNow, born and raised in my area\\nBeautiful body by night, that\\'s hysteria\\nFuck around and bury ya tonight\\nRidin\\' with my homies on sight\\nMomma told me to come in at night\\nNow I really gotta go, but they never know\\nLiving life to the fullest, I got to blow\\nPo-po finna bust in the door, we got blow in the crib\\nIn the kitchen over there next to the baby with the bib\\nGod damn, what it feel like, middle of the night\\nWaking up, scared for my life\\nNever had the heat, just a knife and the gat\\nGoing blat like that\\nGuarantee you it\\'s a wrap, put you on your back\\nRun it back like that\\nJust breathe, why did mama grieve\\nBullet to the dome making her leave\\nGot to leave for the premises, to murder my nemesis\\nNo, no, uh, uh\\nJust stop, stop, stop\\n\\'fore they even call the cops\\nDo it for the money and the bitches and the drugs and the props\\nTell me why another body even got to drop\\nGet shot off top for some shit that was gang related\"Up first at five tonight, breaking news in Gaithersburg where a massive manhunt is underway after a deadly shooting. It\\'s all unfolding in the 400 block of West Deer Park at 3: 55. Our Montgomery County reporter joins us, with the latest tonight.\"Living life like this, hope little Bobby never fight like this\\nStab a motherfucker with a knife like this\\nAll about the money on a night like this\\nRun up in the crib, put a bullet in your rib\\nGot a lot to give but I never had the chance\\nNever had the chance, yeah\\nStay strapped, but I hate it when I take it out\\nIf you want it Imma lay it out\\nHope my little brother make it out\\nEvery night what I pray about\\nWhat I pray about, check it uh yeah\\nGot a son on the way\\nBut I cling to the streets even though I want to run away\\nI imagine a better life\\nWhere I never had a debt in life\\nHit you with the- in the dead of night\\nSelling crack to my own pops\\nPushing this weight on my own block\\nIf I sell a brick I can buy a house\\nIf they find a key they might lock me up\\nBut I take the chance cause I need that shit and don\\'t give a fuck\\nTake the chance cause I need that shit and don\\'t give a fuckGet down and lay down\\nHit you with the Beretta and you better stay down\\nStraight shots on the playground\\nLiving how I\\'m living with the life that I\\'m given\\nAnybody that\\'s riding with me, I\\'m riding with them\\nShow me the enemy and Imma hit em\\nThe second I bit em I get em and hit em with the venom\\nAin\\'t no need to pretend Imma never do it\\nI knew it, all ready been through it\\nI do it for the street, for the fam, for the life\\nAnybody that\\'s gang related'"
      ]
     },
     "execution_count": 5,
     "metadata": {},
     "output_type": "execute_result"
    }
   ],
   "source": [
    "# Print out the lyrics to the first song.\n",
    "lyrics[0]"
   ]
  },
  {
   "cell_type": "markdown",
   "metadata": {},
   "source": [
    "`pickle` is a Python library that serializes Python objects to disk so that you can load them in later."
   ]
  },
  {
   "cell_type": "code",
   "execution_count": 6,
   "metadata": {},
   "outputs": [],
   "source": [
    "import pickle\n",
    "pickle.dump(lyrics, open(\"lyrics.pkl\", \"wb\"))"
   ]
  },
  {
   "cell_type": "code",
   "execution_count": null,
   "metadata": {},
   "outputs": [],
   "source": []
  }
 ],
 "metadata": {
  "kernelspec": {
   "display_name": "Python 3",
   "language": "python",
   "name": "python3"
  },
  "language_info": {
   "codemirror_mode": {
    "name": "ipython",
    "version": 3
   },
   "file_extension": ".py",
   "mimetype": "text/x-python",
   "name": "python",
   "nbconvert_exporter": "python",
   "pygments_lexer": "ipython3",
   "version": "3.6.5"
  }
 },
 "nbformat": 4,
 "nbformat_minor": 2
}
